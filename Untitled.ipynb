{
 "cells": [
  {
   "cell_type": "code",
   "execution_count": 74,
   "metadata": {},
   "outputs": [],
   "source": [
    "import pandas as pd\n",
    "import numpy as np\n",
    "import datetime as dt\n",
    "import seaborn as sns\n",
    "import matplotlib.pyplot as plt\n",
    "from lightgbm import LGBMRegressor\n",
    "import warnings\n",
    "warnings.filterwarnings('ignore')\n"
   ]
  },
  {
   "cell_type": "code",
   "execution_count": 75,
   "metadata": {},
   "outputs": [
    {
     "data": {
      "text/html": [
       "<div>\n",
       "<style scoped>\n",
       "    .dataframe tbody tr th:only-of-type {\n",
       "        vertical-align: middle;\n",
       "    }\n",
       "\n",
       "    .dataframe tbody tr th {\n",
       "        vertical-align: top;\n",
       "    }\n",
       "\n",
       "    .dataframe thead th {\n",
       "        text-align: right;\n",
       "    }\n",
       "</style>\n",
       "<table border=\"1\" class=\"dataframe\">\n",
       "  <thead>\n",
       "    <tr style=\"text-align: right;\">\n",
       "      <th></th>\n",
       "      <th>ID</th>\n",
       "      <th>countryCode</th>\n",
       "      <th>year</th>\n",
       "      <th>sex</th>\n",
       "      <th>agefrom</th>\n",
       "      <th>ageto</th>\n",
       "      <th>percentage_no_schooling</th>\n",
       "      <th>percentage_primary_schooling</th>\n",
       "      <th>percentage_primary_schooling_completed</th>\n",
       "      <th>percentage_secondary_schooling</th>\n",
       "      <th>percentage_secondary_schooling_completed</th>\n",
       "      <th>percentage_tertiary_schooling</th>\n",
       "      <th>percentage_tertiary_schooling_completed</th>\n",
       "      <th>yr_sch</th>\n",
       "      <th>region_code</th>\n",
       "      <th>literate_pop</th>\n",
       "      <th>target</th>\n",
       "    </tr>\n",
       "  </thead>\n",
       "  <tbody>\n",
       "    <tr>\n",
       "      <th>0</th>\n",
       "      <td>ID_00AMK8K</td>\n",
       "      <td>155</td>\n",
       "      <td>1990</td>\n",
       "      <td>MF</td>\n",
       "      <td>15</td>\n",
       "      <td>999</td>\n",
       "      <td>8.3900</td>\n",
       "      <td>26.270000</td>\n",
       "      <td>15.830000</td>\n",
       "      <td>58.570000</td>\n",
       "      <td>26.420000</td>\n",
       "      <td>6.770000</td>\n",
       "      <td>4.400000</td>\n",
       "      <td>8.540000</td>\n",
       "      <td>Latin America and the Caribbean</td>\n",
       "      <td>7435.0</td>\n",
       "      <td>91.609167</td>\n",
       "    </tr>\n",
       "    <tr>\n",
       "      <th>1</th>\n",
       "      <td>ID_00ANS9C</td>\n",
       "      <td>115</td>\n",
       "      <td>2005</td>\n",
       "      <td>MF</td>\n",
       "      <td>25</td>\n",
       "      <td>999</td>\n",
       "      <td>0.6325</td>\n",
       "      <td>6.980833</td>\n",
       "      <td>6.363333</td>\n",
       "      <td>77.683333</td>\n",
       "      <td>49.995833</td>\n",
       "      <td>14.700833</td>\n",
       "      <td>13.546667</td>\n",
       "      <td>11.631667</td>\n",
       "      <td>Europe and Central Asia</td>\n",
       "      <td>14350.0</td>\n",
       "      <td>99.362969</td>\n",
       "    </tr>\n",
       "    <tr>\n",
       "      <th>2</th>\n",
       "      <td>ID_00AQU1S</td>\n",
       "      <td>30</td>\n",
       "      <td>2000</td>\n",
       "      <td>M</td>\n",
       "      <td>15</td>\n",
       "      <td>999</td>\n",
       "      <td>68.5300</td>\n",
       "      <td>26.320000</td>\n",
       "      <td>16.020000</td>\n",
       "      <td>4.620000</td>\n",
       "      <td>2.320000</td>\n",
       "      <td>0.540000</td>\n",
       "      <td>0.310000</td>\n",
       "      <td>1.550000</td>\n",
       "      <td>Sub-Saharan Africa</td>\n",
       "      <td>1458.0</td>\n",
       "      <td>31.469890</td>\n",
       "    </tr>\n",
       "    <tr>\n",
       "      <th>3</th>\n",
       "      <td>ID_00AVQ7Q</td>\n",
       "      <td>143</td>\n",
       "      <td>1960</td>\n",
       "      <td>MF</td>\n",
       "      <td>15</td>\n",
       "      <td>999</td>\n",
       "      <td>12.5300</td>\n",
       "      <td>69.370000</td>\n",
       "      <td>49.260000</td>\n",
       "      <td>8.130000</td>\n",
       "      <td>1.100000</td>\n",
       "      <td>9.970000</td>\n",
       "      <td>5.510000</td>\n",
       "      <td>7.490000</td>\n",
       "      <td>Latin America and the Caribbean</td>\n",
       "      <td>45.0</td>\n",
       "      <td>86.538462</td>\n",
       "    </tr>\n",
       "    <tr>\n",
       "      <th>4</th>\n",
       "      <td>ID_00BAH2C</td>\n",
       "      <td>70</td>\n",
       "      <td>1955</td>\n",
       "      <td>MF</td>\n",
       "      <td>25</td>\n",
       "      <td>999</td>\n",
       "      <td>20.9800</td>\n",
       "      <td>55.900000</td>\n",
       "      <td>22.380000</td>\n",
       "      <td>20.850000</td>\n",
       "      <td>10.240000</td>\n",
       "      <td>2.270000</td>\n",
       "      <td>1.950000</td>\n",
       "      <td>4.890000</td>\n",
       "      <td>Latin America and the Caribbean</td>\n",
       "      <td>2380.0</td>\n",
       "      <td>79.017264</td>\n",
       "    </tr>\n",
       "  </tbody>\n",
       "</table>\n",
       "</div>"
      ],
      "text/plain": [
       "           ID  countryCode  year sex  agefrom  ageto  percentage_no_schooling  \\\n",
       "0  ID_00AMK8K          155  1990  MF       15    999                   8.3900   \n",
       "1  ID_00ANS9C          115  2005  MF       25    999                   0.6325   \n",
       "2  ID_00AQU1S           30  2000   M       15    999                  68.5300   \n",
       "3  ID_00AVQ7Q          143  1960  MF       15    999                  12.5300   \n",
       "4  ID_00BAH2C           70  1955  MF       25    999                  20.9800   \n",
       "\n",
       "   percentage_primary_schooling  percentage_primary_schooling_completed  \\\n",
       "0                     26.270000                               15.830000   \n",
       "1                      6.980833                                6.363333   \n",
       "2                     26.320000                               16.020000   \n",
       "3                     69.370000                               49.260000   \n",
       "4                     55.900000                               22.380000   \n",
       "\n",
       "   percentage_secondary_schooling  percentage_secondary_schooling_completed  \\\n",
       "0                       58.570000                                 26.420000   \n",
       "1                       77.683333                                 49.995833   \n",
       "2                        4.620000                                  2.320000   \n",
       "3                        8.130000                                  1.100000   \n",
       "4                       20.850000                                 10.240000   \n",
       "\n",
       "   percentage_tertiary_schooling  percentage_tertiary_schooling_completed  \\\n",
       "0                       6.770000                                 4.400000   \n",
       "1                      14.700833                                13.546667   \n",
       "2                       0.540000                                 0.310000   \n",
       "3                       9.970000                                 5.510000   \n",
       "4                       2.270000                                 1.950000   \n",
       "\n",
       "      yr_sch                      region_code  literate_pop     target  \n",
       "0   8.540000  Latin America and the Caribbean        7435.0  91.609167  \n",
       "1  11.631667          Europe and Central Asia       14350.0  99.362969  \n",
       "2   1.550000               Sub-Saharan Africa        1458.0  31.469890  \n",
       "3   7.490000  Latin America and the Caribbean          45.0  86.538462  \n",
       "4   4.890000  Latin America and the Caribbean        2380.0  79.017264  "
      ]
     },
     "execution_count": 75,
     "metadata": {},
     "output_type": "execute_result"
    }
   ],
   "source": [
    "train = pd.read_csv('Train.csv')\n",
    "test = pd.read_csv('Test.csv')\n",
    "ss = pd.read_csv('SampleSubmission.csv')\n",
    "train.head()"
   ]
  },
  {
   "cell_type": "code",
   "execution_count": 76,
   "metadata": {},
   "outputs": [
    {
     "data": {
      "text/plain": [
       "999    14016\n",
       "Name: ageto, dtype: int64"
      ]
     },
     "execution_count": 76,
     "metadata": {},
     "output_type": "execute_result"
    }
   ],
   "source": [
    "train.ageto.value_counts()"
   ]
  },
  {
   "cell_type": "code",
   "execution_count": 77,
   "metadata": {},
   "outputs": [
    {
     "data": {
      "text/plain": [
       "MF    7008\n",
       "M     3504\n",
       "F     3504\n",
       "Name: sex, dtype: int64"
      ]
     },
     "execution_count": 77,
     "metadata": {},
     "output_type": "execute_result"
    }
   ],
   "source": [
    "train.sex.value_counts()"
   ]
  },
  {
   "cell_type": "code",
   "execution_count": 78,
   "metadata": {},
   "outputs": [
    {
     "data": {
      "text/plain": [
       "Sub-Saharan Africa                 3168\n",
       "Latin America and the Caribbean    2400\n",
       "Advanced Economies                 2304\n",
       "Europe and Central Asia            1920\n",
       "East Asia and the Pacific          1824\n",
       "Middle East and North Africa       1728\n",
       "South Asia                          672\n",
       "Name: region_code, dtype: int64"
      ]
     },
     "execution_count": 78,
     "metadata": {},
     "output_type": "execute_result"
    }
   ],
   "source": [
    "train.region_code.value_counts()"
   ]
  },
  {
   "cell_type": "code",
   "execution_count": 79,
   "metadata": {},
   "outputs": [
    {
     "data": {
      "text/html": [
       "<div>\n",
       "<style scoped>\n",
       "    .dataframe tbody tr th:only-of-type {\n",
       "        vertical-align: middle;\n",
       "    }\n",
       "\n",
       "    .dataframe tbody tr th {\n",
       "        vertical-align: top;\n",
       "    }\n",
       "\n",
       "    .dataframe thead th {\n",
       "        text-align: right;\n",
       "    }\n",
       "</style>\n",
       "<table border=\"1\" class=\"dataframe\">\n",
       "  <thead>\n",
       "    <tr style=\"text-align: right;\">\n",
       "      <th></th>\n",
       "      <th>countryCode</th>\n",
       "      <th>year</th>\n",
       "      <th>agefrom</th>\n",
       "      <th>ageto</th>\n",
       "      <th>percentage_no_schooling</th>\n",
       "      <th>percentage_primary_schooling</th>\n",
       "      <th>percentage_primary_schooling_completed</th>\n",
       "      <th>percentage_secondary_schooling</th>\n",
       "      <th>percentage_secondary_schooling_completed</th>\n",
       "      <th>percentage_tertiary_schooling</th>\n",
       "      <th>percentage_tertiary_schooling_completed</th>\n",
       "      <th>yr_sch</th>\n",
       "      <th>literate_pop</th>\n",
       "      <th>target</th>\n",
       "    </tr>\n",
       "  </thead>\n",
       "  <tbody>\n",
       "    <tr>\n",
       "      <th>count</th>\n",
       "      <td>14016.000000</td>\n",
       "      <td>14016.000000</td>\n",
       "      <td>14016.000000</td>\n",
       "      <td>14016.0</td>\n",
       "      <td>14016.000000</td>\n",
       "      <td>14016.000000</td>\n",
       "      <td>14016.000000</td>\n",
       "      <td>14016.000000</td>\n",
       "      <td>14016.000000</td>\n",
       "      <td>14016.000000</td>\n",
       "      <td>14016.000000</td>\n",
       "      <td>14016.000000</td>\n",
       "      <td>1.401600e+04</td>\n",
       "      <td>14016.000000</td>\n",
       "    </tr>\n",
       "    <tr>\n",
       "      <th>mean</th>\n",
       "      <td>112.212329</td>\n",
       "      <td>1977.500000</td>\n",
       "      <td>20.000000</td>\n",
       "      <td>999.0</td>\n",
       "      <td>35.058990</td>\n",
       "      <td>35.081346</td>\n",
       "      <td>18.336662</td>\n",
       "      <td>24.148922</td>\n",
       "      <td>12.448905</td>\n",
       "      <td>5.708469</td>\n",
       "      <td>3.394752</td>\n",
       "      <td>5.035554</td>\n",
       "      <td>1.028293e+04</td>\n",
       "      <td>64.819575</td>\n",
       "    </tr>\n",
       "    <tr>\n",
       "      <th>std</th>\n",
       "      <td>90.990390</td>\n",
       "      <td>17.260878</td>\n",
       "      <td>5.000178</td>\n",
       "      <td>0.0</td>\n",
       "      <td>30.836316</td>\n",
       "      <td>20.827921</td>\n",
       "      <td>14.543279</td>\n",
       "      <td>20.248127</td>\n",
       "      <td>13.100393</td>\n",
       "      <td>7.103030</td>\n",
       "      <td>4.263788</td>\n",
       "      <td>3.182527</td>\n",
       "      <td>4.503997e+04</td>\n",
       "      <td>30.862859</td>\n",
       "    </tr>\n",
       "    <tr>\n",
       "      <th>min</th>\n",
       "      <td>1.000000</td>\n",
       "      <td>1950.000000</td>\n",
       "      <td>15.000000</td>\n",
       "      <td>999.0</td>\n",
       "      <td>0.003333</td>\n",
       "      <td>0.000000</td>\n",
       "      <td>0.000000</td>\n",
       "      <td>0.000000</td>\n",
       "      <td>0.000000</td>\n",
       "      <td>0.000000</td>\n",
       "      <td>0.000000</td>\n",
       "      <td>0.000000</td>\n",
       "      <td>0.000000e+00</td>\n",
       "      <td>0.000000</td>\n",
       "    </tr>\n",
       "    <tr>\n",
       "      <th>25%</th>\n",
       "      <td>50.000000</td>\n",
       "      <td>1963.750000</td>\n",
       "      <td>15.000000</td>\n",
       "      <td>999.0</td>\n",
       "      <td>6.200000</td>\n",
       "      <td>17.710000</td>\n",
       "      <td>6.830000</td>\n",
       "      <td>6.820000</td>\n",
       "      <td>2.470000</td>\n",
       "      <td>0.850000</td>\n",
       "      <td>0.450000</td>\n",
       "      <td>2.290000</td>\n",
       "      <td>3.050000e+02</td>\n",
       "      <td>39.845469</td>\n",
       "    </tr>\n",
       "    <tr>\n",
       "      <th>50%</th>\n",
       "      <td>91.500000</td>\n",
       "      <td>1977.500000</td>\n",
       "      <td>20.000000</td>\n",
       "      <td>999.0</td>\n",
       "      <td>26.387917</td>\n",
       "      <td>34.035000</td>\n",
       "      <td>15.235000</td>\n",
       "      <td>19.150000</td>\n",
       "      <td>7.640000</td>\n",
       "      <td>2.980000</td>\n",
       "      <td>1.730000</td>\n",
       "      <td>4.740000</td>\n",
       "      <td>1.391000e+03</td>\n",
       "      <td>73.493041</td>\n",
       "    </tr>\n",
       "    <tr>\n",
       "      <th>75%</th>\n",
       "      <td>131.000000</td>\n",
       "      <td>1991.250000</td>\n",
       "      <td>25.000000</td>\n",
       "      <td>999.0</td>\n",
       "      <td>60.120833</td>\n",
       "      <td>49.870000</td>\n",
       "      <td>26.315000</td>\n",
       "      <td>37.650833</td>\n",
       "      <td>18.760000</td>\n",
       "      <td>8.150000</td>\n",
       "      <td>4.750000</td>\n",
       "      <td>7.540000</td>\n",
       "      <td>5.393750e+03</td>\n",
       "      <td>93.704484</td>\n",
       "    </tr>\n",
       "    <tr>\n",
       "      <th>max</th>\n",
       "      <td>358.000000</td>\n",
       "      <td>2005.000000</td>\n",
       "      <td>25.000000</td>\n",
       "      <td>999.0</td>\n",
       "      <td>100.000000</td>\n",
       "      <td>94.380000</td>\n",
       "      <td>85.266667</td>\n",
       "      <td>93.943333</td>\n",
       "      <td>77.260000</td>\n",
       "      <td>57.290000</td>\n",
       "      <td>31.010000</td>\n",
       "      <td>13.280000</td>\n",
       "      <td>1.377328e+06</td>\n",
       "      <td>100.037495</td>\n",
       "    </tr>\n",
       "  </tbody>\n",
       "</table>\n",
       "</div>"
      ],
      "text/plain": [
       "        countryCode          year       agefrom    ageto  \\\n",
       "count  14016.000000  14016.000000  14016.000000  14016.0   \n",
       "mean     112.212329   1977.500000     20.000000    999.0   \n",
       "std       90.990390     17.260878      5.000178      0.0   \n",
       "min        1.000000   1950.000000     15.000000    999.0   \n",
       "25%       50.000000   1963.750000     15.000000    999.0   \n",
       "50%       91.500000   1977.500000     20.000000    999.0   \n",
       "75%      131.000000   1991.250000     25.000000    999.0   \n",
       "max      358.000000   2005.000000     25.000000    999.0   \n",
       "\n",
       "       percentage_no_schooling  percentage_primary_schooling  \\\n",
       "count             14016.000000                  14016.000000   \n",
       "mean                 35.058990                     35.081346   \n",
       "std                  30.836316                     20.827921   \n",
       "min                   0.003333                      0.000000   \n",
       "25%                   6.200000                     17.710000   \n",
       "50%                  26.387917                     34.035000   \n",
       "75%                  60.120833                     49.870000   \n",
       "max                 100.000000                     94.380000   \n",
       "\n",
       "       percentage_primary_schooling_completed  percentage_secondary_schooling  \\\n",
       "count                            14016.000000                    14016.000000   \n",
       "mean                                18.336662                       24.148922   \n",
       "std                                 14.543279                       20.248127   \n",
       "min                                  0.000000                        0.000000   \n",
       "25%                                  6.830000                        6.820000   \n",
       "50%                                 15.235000                       19.150000   \n",
       "75%                                 26.315000                       37.650833   \n",
       "max                                 85.266667                       93.943333   \n",
       "\n",
       "       percentage_secondary_schooling_completed  \\\n",
       "count                              14016.000000   \n",
       "mean                                  12.448905   \n",
       "std                                   13.100393   \n",
       "min                                    0.000000   \n",
       "25%                                    2.470000   \n",
       "50%                                    7.640000   \n",
       "75%                                   18.760000   \n",
       "max                                   77.260000   \n",
       "\n",
       "       percentage_tertiary_schooling  percentage_tertiary_schooling_completed  \\\n",
       "count                   14016.000000                             14016.000000   \n",
       "mean                        5.708469                                 3.394752   \n",
       "std                         7.103030                                 4.263788   \n",
       "min                         0.000000                                 0.000000   \n",
       "25%                         0.850000                                 0.450000   \n",
       "50%                         2.980000                                 1.730000   \n",
       "75%                         8.150000                                 4.750000   \n",
       "max                        57.290000                                31.010000   \n",
       "\n",
       "             yr_sch  literate_pop        target  \n",
       "count  14016.000000  1.401600e+04  14016.000000  \n",
       "mean       5.035554  1.028293e+04     64.819575  \n",
       "std        3.182527  4.503997e+04     30.862859  \n",
       "min        0.000000  0.000000e+00      0.000000  \n",
       "25%        2.290000  3.050000e+02     39.845469  \n",
       "50%        4.740000  1.391000e+03     73.493041  \n",
       "75%        7.540000  5.393750e+03     93.704484  \n",
       "max       13.280000  1.377328e+06    100.037495  "
      ]
     },
     "execution_count": 79,
     "metadata": {},
     "output_type": "execute_result"
    }
   ],
   "source": [
    "train.describe()"
   ]
  },
  {
   "cell_type": "code",
   "execution_count": 80,
   "metadata": {},
   "outputs": [],
   "source": [
    "y=train['target'] # target columns\n",
    "train = train.drop(['ID','ageto'],axis=1)\n",
    "test = test.drop(['ID','ageto',],axis=1)"
   ]
  },
  {
   "cell_type": "code",
   "execution_count": 81,
   "metadata": {},
   "outputs": [
    {
     "name": "stdout",
     "output_type": "stream",
     "text": [
      "train shape (14016, 16)\n",
      "test shape (1168, 15)\n",
      "data shape (15184, 16)\n"
     ]
    }
   ],
   "source": [
    "train['source'] ='train'\n",
    "test['source'] ='test' # creating a new column to distinguish between train and test\n",
    "\n",
    "df =pd.concat([train,test],ignore_index=True,sort=False)\n",
    "print('train shape',train.shape)\n",
    "print('test shape',test.shape)\n",
    "print('data shape',df.shape)"
   ]
  },
  {
   "cell_type": "code",
   "execution_count": 82,
   "metadata": {},
   "outputs": [
    {
     "name": "stdout",
     "output_type": "stream",
     "text": [
      "<class 'pandas.core.frame.DataFrame'>\n",
      "RangeIndex: 15184 entries, 0 to 15183\n",
      "Data columns (total 16 columns):\n",
      " #   Column                                    Non-Null Count  Dtype  \n",
      "---  ------                                    --------------  -----  \n",
      " 0   countryCode                               15184 non-null  int64  \n",
      " 1   year                                      15184 non-null  int64  \n",
      " 2   sex                                       15184 non-null  object \n",
      " 3   agefrom                                   15184 non-null  int64  \n",
      " 4   percentage_no_schooling                   15184 non-null  float64\n",
      " 5   percentage_primary_schooling              15184 non-null  float64\n",
      " 6   percentage_primary_schooling_completed    15184 non-null  float64\n",
      " 7   percentage_secondary_schooling            15184 non-null  float64\n",
      " 8   percentage_secondary_schooling_completed  15184 non-null  float64\n",
      " 9   percentage_tertiary_schooling             15184 non-null  float64\n",
      " 10  percentage_tertiary_schooling_completed   15184 non-null  float64\n",
      " 11  yr_sch                                    15184 non-null  float64\n",
      " 12  region_code                               15184 non-null  object \n",
      " 13  literate_pop                              15184 non-null  float64\n",
      " 14  target                                    14016 non-null  float64\n",
      " 15  source                                    15184 non-null  object \n",
      "dtypes: float64(10), int64(3), object(3)\n",
      "memory usage: 1.9+ MB\n"
     ]
    }
   ],
   "source": [
    "df.info()"
   ]
  },
  {
   "cell_type": "code",
   "execution_count": null,
   "metadata": {},
   "outputs": [],
   "source": []
  },
  {
   "cell_type": "code",
   "execution_count": 83,
   "metadata": {},
   "outputs": [],
   "source": [
    "#df['year_target']= df.groupby(['year'])['target'].transform('mean')"
   ]
  },
  {
   "cell_type": "code",
   "execution_count": 84,
   "metadata": {},
   "outputs": [],
   "source": [
    "#df['yr_sch_target']= df.groupby(['yr_sch'])['target'].transform('mean')"
   ]
  },
  {
   "cell_type": "code",
   "execution_count": 85,
   "metadata": {},
   "outputs": [],
   "source": [
    "#df['sex'] =df['sex'].replace({\"MF\": np.NaN })\n",
    "# from sklearn.preprocessing import LabelEncoder\n",
    "# le =LabelEncoder()\n",
    "# df['sex'] =le.fit_transform(df['sex'])\n",
    "# df['region_code']=le.fit_transform(df['region_code'])"
   ]
  },
  {
   "cell_type": "code",
   "execution_count": 86,
   "metadata": {},
   "outputs": [],
   "source": [
    "cat_cols=['sex','region_code',]\n",
    "# for i in cat_cols:\n",
    "#     df[i] = df[i].fillna(df[i].mode()[0])"
   ]
  },
  {
   "cell_type": "code",
   "execution_count": 87,
   "metadata": {},
   "outputs": [],
   "source": [
    "#df[cat_cols] = df[cat_cols].astype('category')\n",
    "df = pd.get_dummies(df, columns=['sex','region_code'])"
   ]
  },
  {
   "cell_type": "code",
   "execution_count": null,
   "metadata": {},
   "outputs": [],
   "source": []
  },
  {
   "cell_type": "code",
   "execution_count": 88,
   "metadata": {},
   "outputs": [
    {
     "name": "stdout",
     "output_type": "stream",
     "text": [
      "<class 'pandas.core.frame.DataFrame'>\n",
      "RangeIndex: 15184 entries, 0 to 15183\n",
      "Data columns (total 24 columns):\n",
      " #   Column                                       Non-Null Count  Dtype  \n",
      "---  ------                                       --------------  -----  \n",
      " 0   countryCode                                  15184 non-null  int64  \n",
      " 1   year                                         15184 non-null  int64  \n",
      " 2   agefrom                                      15184 non-null  int64  \n",
      " 3   percentage_no_schooling                      15184 non-null  float64\n",
      " 4   percentage_primary_schooling                 15184 non-null  float64\n",
      " 5   percentage_primary_schooling_completed       15184 non-null  float64\n",
      " 6   percentage_secondary_schooling               15184 non-null  float64\n",
      " 7   percentage_secondary_schooling_completed     15184 non-null  float64\n",
      " 8   percentage_tertiary_schooling                15184 non-null  float64\n",
      " 9   percentage_tertiary_schooling_completed      15184 non-null  float64\n",
      " 10  yr_sch                                       15184 non-null  float64\n",
      " 11  literate_pop                                 15184 non-null  float64\n",
      " 12  target                                       14016 non-null  float64\n",
      " 13  source                                       15184 non-null  object \n",
      " 14  sex_F                                        15184 non-null  uint8  \n",
      " 15  sex_M                                        15184 non-null  uint8  \n",
      " 16  sex_MF                                       15184 non-null  uint8  \n",
      " 17  region_code_Advanced Economies               15184 non-null  uint8  \n",
      " 18  region_code_East Asia and the Pacific        15184 non-null  uint8  \n",
      " 19  region_code_Europe and Central Asia          15184 non-null  uint8  \n",
      " 20  region_code_Latin America and the Caribbean  15184 non-null  uint8  \n",
      " 21  region_code_Middle East and North Africa     15184 non-null  uint8  \n",
      " 22  region_code_South Asia                       15184 non-null  uint8  \n",
      " 23  region_code_Sub-Saharan Africa               15184 non-null  uint8  \n",
      "dtypes: float64(10), int64(3), object(1), uint8(10)\n",
      "memory usage: 1.8+ MB\n"
     ]
    }
   ],
   "source": [
    "df.info()"
   ]
  },
  {
   "cell_type": "code",
   "execution_count": 89,
   "metadata": {},
   "outputs": [],
   "source": [
    "df['illeterate pop'] = df.percentage_no_schooling * df.literate_pop\n",
    "#df['percentage_sec_diff'] = df.percentage_secondary_schooling - df.percentage_secondary_schooling_completed\n",
    "#df['percentage_ter_diff'] = df.percentage_tertiary_schooling - df.percentage_tertiary_schooling_completed"
   ]
  },
  {
   "cell_type": "code",
   "execution_count": null,
   "metadata": {},
   "outputs": [],
   "source": []
  },
  {
   "cell_type": "code",
   "execution_count": null,
   "metadata": {},
   "outputs": [],
   "source": []
  },
  {
   "cell_type": "code",
   "execution_count": null,
   "metadata": {},
   "outputs": [],
   "source": []
  },
  {
   "cell_type": "code",
   "execution_count": 94,
   "metadata": {},
   "outputs": [],
   "source": [
    "## Splitting of the columns back to train and test and dropping the indicator column\n",
    "train = df.loc[df['source']=='train']\n",
    "test = df.loc[df['source']=='test']\n",
    "\n",
    "train.drop(['source','target','region_code_East Asia and the Pacific','sex_MF'],axis=1,inplace=True)\n",
    "test.drop(['source','target','region_code_East Asia and the Pacific','sex_MF'],axis =1,inplace =True)"
   ]
  },
  {
   "cell_type": "code",
   "execution_count": 95,
   "metadata": {},
   "outputs": [],
   "source": [
    "X = train\n",
    "test_new = test"
   ]
  },
  {
   "cell_type": "code",
   "execution_count": 96,
   "metadata": {},
   "outputs": [],
   "source": [
    "from sklearn.metrics import mean_absolute_error\n",
    "from sklearn.model_selection import KFold"
   ]
  },
  {
   "cell_type": "code",
   "execution_count": null,
   "metadata": {},
   "outputs": [],
   "source": []
  },
  {
   "cell_type": "code",
   "execution_count": 120,
   "metadata": {},
   "outputs": [
    {
     "name": "stdout",
     "output_type": "stream",
     "text": [
      "Training until validation scores don't improve for 500 rounds\n",
      "[500]\ttraining's l1: 0.0945935\ttraining's l2: 0.0188468\tvalid_1's l1: 0.148059\tvalid_1's l2: 0.071114\n",
      "Early stopping, best iteration is:\n",
      "[197]\ttraining's l1: 0.116712\ttraining's l2: 0.0414007\tvalid_1's l1: 0.147331\tvalid_1's l2: 0.0736105\n",
      "Number of splits trained 1 \n",
      "Training until validation scores don't improve for 500 rounds\n",
      "[500]\ttraining's l1: 0.095229\ttraining's l2: 0.0181637\tvalid_1's l1: 0.129101\tvalid_1's l2: 0.0405179\n",
      "Early stopping, best iteration is:\n",
      "[306]\ttraining's l1: 0.107769\ttraining's l2: 0.0273814\tvalid_1's l1: 0.130171\tvalid_1's l2: 0.0402407\n",
      "Number of splits trained 2 \n",
      "Training until validation scores don't improve for 500 rounds\n",
      "[500]\ttraining's l1: 0.0947373\ttraining's l2: 0.019333\tvalid_1's l1: 0.136792\tvalid_1's l2: 0.0654652\n",
      "Did not meet early stopping. Best iteration is:\n",
      "[900]\ttraining's l1: 0.0760907\ttraining's l2: 0.0111318\tvalid_1's l1: 0.137504\tvalid_1's l2: 0.0633908\n",
      "Number of splits trained 3 \n",
      "Training until validation scores don't improve for 500 rounds\n",
      "[500]\ttraining's l1: 0.096718\ttraining's l2: 0.019629\tvalid_1's l1: 0.130378\tvalid_1's l2: 0.0425731\n",
      "Did not meet early stopping. Best iteration is:\n",
      "[900]\ttraining's l1: 0.0759948\ttraining's l2: 0.0110331\tvalid_1's l1: 0.130195\tvalid_1's l2: 0.0422786\n",
      "Number of splits trained 4 \n",
      "Training until validation scores don't improve for 500 rounds\n",
      "[500]\ttraining's l1: 0.0949546\ttraining's l2: 0.0197139\tvalid_1's l1: 0.15134\tvalid_1's l2: 0.118689\n",
      "Early stopping, best iteration is:\n",
      "[281]\ttraining's l1: 0.109113\ttraining's l2: 0.0313442\tvalid_1's l1: 0.148815\tvalid_1's l2: 0.112295\n",
      "Number of splits trained 5 \n",
      "Training until validation scores don't improve for 500 rounds\n",
      "[500]\ttraining's l1: 0.0937979\ttraining's l2: 0.0188819\tvalid_1's l1: 0.13038\tvalid_1's l2: 0.043588\n",
      "Early stopping, best iteration is:\n",
      "[161]\ttraining's l1: 0.121197\ttraining's l2: 0.0482766\tvalid_1's l1: 0.12929\tvalid_1's l2: 0.0406819\n",
      "Number of splits trained 6 \n",
      "Training until validation scores don't improve for 500 rounds\n",
      "[500]\ttraining's l1: 0.094679\ttraining's l2: 0.0190096\tvalid_1's l1: 0.146309\tvalid_1's l2: 0.0816385\n",
      "Did not meet early stopping. Best iteration is:\n",
      "[900]\ttraining's l1: 0.074478\ttraining's l2: 0.0105285\tvalid_1's l1: 0.147495\tvalid_1's l2: 0.0794596\n",
      "Number of splits trained 7 \n",
      "Training until validation scores don't improve for 500 rounds\n",
      "[500]\ttraining's l1: 0.0963932\ttraining's l2: 0.0194314\tvalid_1's l1: 0.146245\tvalid_1's l2: 0.0989126\n",
      "Did not meet early stopping. Best iteration is:\n",
      "[900]\ttraining's l1: 0.0747694\ttraining's l2: 0.0102909\tvalid_1's l1: 0.144705\tvalid_1's l2: 0.0927379\n",
      "Number of splits trained 8 \n",
      "Training until validation scores don't improve for 500 rounds\n",
      "[500]\ttraining's l1: 0.0937706\ttraining's l2: 0.0182799\tvalid_1's l1: 0.135804\tvalid_1's l2: 0.086435\n",
      "Early stopping, best iteration is:\n",
      "[259]\ttraining's l1: 0.110307\ttraining's l2: 0.0306583\tvalid_1's l1: 0.134518\tvalid_1's l2: 0.091492\n",
      "Number of splits trained 9 \n",
      "Training until validation scores don't improve for 500 rounds\n",
      "[500]\ttraining's l1: 0.0935243\ttraining's l2: 0.018578\tvalid_1's l1: 0.146284\tvalid_1's l2: 0.0921808\n",
      "Did not meet early stopping. Best iteration is:\n",
      "[900]\ttraining's l1: 0.0736918\ttraining's l2: 0.0104435\tvalid_1's l1: 0.145854\tvalid_1's l2: 0.092199\n",
      "Number of splits trained 10 \n",
      "Training until validation scores don't improve for 500 rounds\n",
      "[500]\ttraining's l1: 0.0948358\ttraining's l2: 0.0190744\tvalid_1's l1: 0.13251\tvalid_1's l2: 0.0426406\n",
      "Early stopping, best iteration is:\n",
      "[155]\ttraining's l1: 0.12435\ttraining's l2: 0.054328\tvalid_1's l1: 0.13118\tvalid_1's l2: 0.0369991\n",
      "Number of splits trained 11 \n",
      "Training until validation scores don't improve for 500 rounds\n",
      "[500]\ttraining's l1: 0.0948531\ttraining's l2: 0.0190546\tvalid_1's l1: 0.146626\tvalid_1's l2: 0.108128\n",
      "Did not meet early stopping. Best iteration is:\n",
      "[900]\ttraining's l1: 0.0745635\ttraining's l2: 0.0104988\tvalid_1's l1: 0.148815\tvalid_1's l2: 0.104755\n",
      "Number of splits trained 12 \n",
      "Training until validation scores don't improve for 500 rounds\n",
      "[500]\ttraining's l1: 0.0951814\ttraining's l2: 0.0189317\tvalid_1's l1: 0.14458\tvalid_1's l2: 0.0694611\n",
      "Did not meet early stopping. Best iteration is:\n",
      "[900]\ttraining's l1: 0.0752105\ttraining's l2: 0.0105166\tvalid_1's l1: 0.144969\tvalid_1's l2: 0.0672827\n",
      "Number of splits trained 13 \n",
      "Training until validation scores don't improve for 500 rounds\n",
      "[500]\ttraining's l1: 0.09541\ttraining's l2: 0.0192757\tvalid_1's l1: 0.134761\tvalid_1's l2: 0.0558406\n",
      "Early stopping, best iteration is:\n",
      "[138]\ttraining's l1: 0.129431\ttraining's l2: 0.0594136\tvalid_1's l1: 0.137213\tvalid_1's l2: 0.0526384\n",
      "Number of splits trained 14 \n",
      "Training until validation scores don't improve for 500 rounds\n",
      "[500]\ttraining's l1: 0.094339\ttraining's l2: 0.0189469\tvalid_1's l1: 0.144294\tvalid_1's l2: 0.0682881\n",
      "Early stopping, best iteration is:\n",
      "[240]\ttraining's l1: 0.112033\ttraining's l2: 0.0344653\tvalid_1's l1: 0.141072\tvalid_1's l2: 0.0644388\n",
      "Number of splits trained 15 \n"
     ]
    },
    {
     "data": {
      "text/plain": [
       "0.13994171271252345"
      ]
     },
     "execution_count": 120,
     "metadata": {},
     "output_type": "execute_result"
    }
   ],
   "source": [
    "seed = 2021 # seed\n",
    "skf = KFold(n_splits=15, shuffle=True, random_state=seed) # for cross validation\n",
    "scores = []\n",
    "preds= []\n",
    "\n",
    "\n",
    "\n",
    "    \n",
    "\n",
    "#creating a for loop for the stratified k fold\n",
    "i = 1\n",
    "for train, test in skf.split(X, y):\n",
    "    x_train, x_test, y_train, y_test = X.iloc[train], X.iloc[test], y.iloc[train], y.iloc[test]# spliting the data\n",
    "    estimator = LGBMRegressor(learning_rate=0.05,n_estimators =1000\n",
    "                               ,max_depth=-1,num_leaves=50,reg_lambda=4, objective='regression',subsample=0.8)# parameters for the algorithm this was done by manual tuning\n",
    "\n",
    "    estimator.fit( x_train, y_train,eval_set=[(x_train,y_train),(x_test, y_test)], early_stopping_rounds=500,verbose=500,eval_metric='mae' )# fitting on train data\n",
    "    \n",
    "    print('Number of splits trained {} '.format(i))\n",
    "    score = mean_absolute_error(y_test, estimator.predict(x_test)) # checking the accuracy\n",
    "    pred = estimator.predict(test_new)# making prediction probabities\n",
    "    scores.append(score)\n",
    "    preds.append(pred)\n",
    "    i += 1\n",
    "\n",
    "np.mean(scores)"
   ]
  },
  {
   "cell_type": "code",
   "execution_count": 121,
   "metadata": {},
   "outputs": [],
   "source": [
    "ss.target = np.mean(preds,0)"
   ]
  },
  {
   "cell_type": "code",
   "execution_count": 122,
   "metadata": {},
   "outputs": [
    {
     "data": {
      "text/html": [
       "<div>\n",
       "<style scoped>\n",
       "    .dataframe tbody tr th:only-of-type {\n",
       "        vertical-align: middle;\n",
       "    }\n",
       "\n",
       "    .dataframe tbody tr th {\n",
       "        vertical-align: top;\n",
       "    }\n",
       "\n",
       "    .dataframe thead th {\n",
       "        text-align: right;\n",
       "    }\n",
       "</style>\n",
       "<table border=\"1\" class=\"dataframe\">\n",
       "  <thead>\n",
       "    <tr style=\"text-align: right;\">\n",
       "      <th></th>\n",
       "      <th>ID</th>\n",
       "      <th>target</th>\n",
       "    </tr>\n",
       "  </thead>\n",
       "  <tbody>\n",
       "    <tr>\n",
       "      <th>0</th>\n",
       "      <td>ID_00ILO0W</td>\n",
       "      <td>87.556323</td>\n",
       "    </tr>\n",
       "    <tr>\n",
       "      <th>1</th>\n",
       "      <td>ID_00KPO3Y</td>\n",
       "      <td>83.220221</td>\n",
       "    </tr>\n",
       "    <tr>\n",
       "      <th>2</th>\n",
       "      <td>ID_00MLY2L</td>\n",
       "      <td>88.419125</td>\n",
       "    </tr>\n",
       "    <tr>\n",
       "      <th>3</th>\n",
       "      <td>ID_00PVY5K</td>\n",
       "      <td>95.185412</td>\n",
       "    </tr>\n",
       "    <tr>\n",
       "      <th>4</th>\n",
       "      <td>ID_00TLQ4J</td>\n",
       "      <td>97.776608</td>\n",
       "    </tr>\n",
       "  </tbody>\n",
       "</table>\n",
       "</div>"
      ],
      "text/plain": [
       "           ID     target\n",
       "0  ID_00ILO0W  87.556323\n",
       "1  ID_00KPO3Y  83.220221\n",
       "2  ID_00MLY2L  88.419125\n",
       "3  ID_00PVY5K  95.185412\n",
       "4  ID_00TLQ4J  97.776608"
      ]
     },
     "execution_count": 122,
     "metadata": {},
     "output_type": "execute_result"
    }
   ],
   "source": [
    "ss.head()"
   ]
  },
  {
   "cell_type": "code",
   "execution_count": 123,
   "metadata": {},
   "outputs": [],
   "source": [
    "ss.to_csv('baseline.csv',index=False)"
   ]
  },
  {
   "cell_type": "code",
   "execution_count": null,
   "metadata": {},
   "outputs": [],
   "source": []
  },
  {
   "cell_type": "code",
   "execution_count": null,
   "metadata": {},
   "outputs": [],
   "source": []
  },
  {
   "cell_type": "code",
   "execution_count": 17,
   "metadata": {},
   "outputs": [],
   "source": [
    "from catboost import CatBoostRegressor"
   ]
  },
  {
   "cell_type": "code",
   "execution_count": 21,
   "metadata": {},
   "outputs": [
    {
     "name": "stdout",
     "output_type": "stream",
     "text": [
      "0:\tlearn: 25.6688854\ttest: 25.6688854\ttest1: 25.2488717\tbest: 25.2488717 (0)\ttotal: 8.85ms\tremaining: 44.2s\n",
      "500:\tlearn: 0.2613512\ttest: 0.2613512\ttest1: 0.2776623\tbest: 0.2776623 (500)\ttotal: 3.49s\tremaining: 31.4s\n",
      "1000:\tlearn: 0.1927276\ttest: 0.1927276\ttest1: 0.2299771\tbest: 0.2299771 (1000)\ttotal: 7.24s\tremaining: 28.9s\n"
     ]
    },
    {
     "ename": "KeyboardInterrupt",
     "evalue": "",
     "output_type": "error",
     "traceback": [
      "\u001b[1;31m---------------------------------------------------------------------------\u001b[0m",
      "\u001b[1;31mKeyboardInterrupt\u001b[0m                         Traceback (most recent call last)",
      "\u001b[1;32m<ipython-input-21-28687d88fc18>\u001b[0m in \u001b[0;36m<module>\u001b[1;34m\u001b[0m\n\u001b[0;32m     14\u001b[0m     \u001b[0mcat\u001b[0m \u001b[1;33m=\u001b[0m  \u001b[0mCatBoostRegressor\u001b[0m\u001b[1;33m(\u001b[0m\u001b[0mlearning_rate\u001b[0m\u001b[1;33m=\u001b[0m\u001b[1;36m0.05\u001b[0m\u001b[1;33m,\u001b[0m\u001b[0meval_metric\u001b[0m\u001b[1;33m=\u001b[0m\u001b[1;34m'MAE'\u001b[0m\u001b[1;33m,\u001b[0m\u001b[0miterations\u001b[0m\u001b[1;33m=\u001b[0m \u001b[1;36m5000\u001b[0m\u001b[1;33m,\u001b[0m\u001b[0msubsample\u001b[0m\u001b[1;33m=\u001b[0m\u001b[1;36m0.8\u001b[0m\u001b[1;33m)\u001b[0m\u001b[1;31m# parameters for the algorithm this was done by manual tuning\u001b[0m\u001b[1;33m\u001b[0m\u001b[1;33m\u001b[0m\u001b[0m\n\u001b[0;32m     15\u001b[0m \u001b[1;33m\u001b[0m\u001b[0m\n\u001b[1;32m---> 16\u001b[1;33m     \u001b[0mcat\u001b[0m\u001b[1;33m.\u001b[0m\u001b[0mfit\u001b[0m\u001b[1;33m(\u001b[0m \u001b[0mx_train\u001b[0m\u001b[1;33m,\u001b[0m \u001b[0my_train\u001b[0m\u001b[1;33m,\u001b[0m\u001b[0meval_set\u001b[0m\u001b[1;33m=\u001b[0m\u001b[1;33m[\u001b[0m\u001b[1;33m(\u001b[0m\u001b[0mx_train\u001b[0m\u001b[1;33m,\u001b[0m\u001b[0my_train\u001b[0m\u001b[1;33m)\u001b[0m\u001b[1;33m,\u001b[0m\u001b[1;33m(\u001b[0m\u001b[0mx_test\u001b[0m\u001b[1;33m,\u001b[0m \u001b[0my_test\u001b[0m\u001b[1;33m)\u001b[0m\u001b[1;33m]\u001b[0m\u001b[1;33m,\u001b[0m \u001b[0mearly_stopping_rounds\u001b[0m\u001b[1;33m=\u001b[0m\u001b[1;36m100\u001b[0m\u001b[1;33m,\u001b[0m\u001b[0mverbose\u001b[0m\u001b[1;33m=\u001b[0m\u001b[1;36m500\u001b[0m\u001b[1;33m,\u001b[0m\u001b[1;33m)\u001b[0m\u001b[1;31m# fitting on train data\u001b[0m\u001b[1;33m\u001b[0m\u001b[1;33m\u001b[0m\u001b[0m\n\u001b[0m\u001b[0;32m     17\u001b[0m \u001b[1;33m\u001b[0m\u001b[0m\n\u001b[0;32m     18\u001b[0m     \u001b[0mprint\u001b[0m\u001b[1;33m(\u001b[0m\u001b[1;34m'Number of splits trained {} '\u001b[0m\u001b[1;33m.\u001b[0m\u001b[0mformat\u001b[0m\u001b[1;33m(\u001b[0m\u001b[0mi\u001b[0m\u001b[1;33m)\u001b[0m\u001b[1;33m)\u001b[0m\u001b[1;33m\u001b[0m\u001b[1;33m\u001b[0m\u001b[0m\n",
      "\u001b[1;32m~\\Anaconda3\\lib\\site-packages\\catboost\\core.py\u001b[0m in \u001b[0;36mfit\u001b[1;34m(self, X, y, cat_features, sample_weight, baseline, use_best_model, eval_set, verbose, logging_level, plot, column_description, verbose_eval, metric_period, silent, early_stopping_rounds, save_snapshot, snapshot_file, snapshot_interval, init_model)\u001b[0m\n\u001b[0;32m   4838\u001b[0m                          \u001b[0muse_best_model\u001b[0m\u001b[1;33m,\u001b[0m \u001b[0meval_set\u001b[0m\u001b[1;33m,\u001b[0m \u001b[0mverbose\u001b[0m\u001b[1;33m,\u001b[0m \u001b[0mlogging_level\u001b[0m\u001b[1;33m,\u001b[0m \u001b[0mplot\u001b[0m\u001b[1;33m,\u001b[0m \u001b[0mcolumn_description\u001b[0m\u001b[1;33m,\u001b[0m\u001b[1;33m\u001b[0m\u001b[1;33m\u001b[0m\u001b[0m\n\u001b[0;32m   4839\u001b[0m                          \u001b[0mverbose_eval\u001b[0m\u001b[1;33m,\u001b[0m \u001b[0mmetric_period\u001b[0m\u001b[1;33m,\u001b[0m \u001b[0msilent\u001b[0m\u001b[1;33m,\u001b[0m \u001b[0mearly_stopping_rounds\u001b[0m\u001b[1;33m,\u001b[0m\u001b[1;33m\u001b[0m\u001b[1;33m\u001b[0m\u001b[0m\n\u001b[1;32m-> 4840\u001b[1;33m                          save_snapshot, snapshot_file, snapshot_interval, init_model)\n\u001b[0m\u001b[0;32m   4841\u001b[0m \u001b[1;33m\u001b[0m\u001b[0m\n\u001b[0;32m   4842\u001b[0m     \u001b[1;32mdef\u001b[0m \u001b[0mpredict\u001b[0m\u001b[1;33m(\u001b[0m\u001b[0mself\u001b[0m\u001b[1;33m,\u001b[0m \u001b[0mdata\u001b[0m\u001b[1;33m,\u001b[0m \u001b[0mprediction_type\u001b[0m\u001b[1;33m=\u001b[0m\u001b[1;32mNone\u001b[0m\u001b[1;33m,\u001b[0m \u001b[0mntree_start\u001b[0m\u001b[1;33m=\u001b[0m\u001b[1;36m0\u001b[0m\u001b[1;33m,\u001b[0m \u001b[0mntree_end\u001b[0m\u001b[1;33m=\u001b[0m\u001b[1;36m0\u001b[0m\u001b[1;33m,\u001b[0m \u001b[0mthread_count\u001b[0m\u001b[1;33m=\u001b[0m\u001b[1;33m-\u001b[0m\u001b[1;36m1\u001b[0m\u001b[1;33m,\u001b[0m \u001b[0mverbose\u001b[0m\u001b[1;33m=\u001b[0m\u001b[1;32mNone\u001b[0m\u001b[1;33m)\u001b[0m\u001b[1;33m:\u001b[0m\u001b[1;33m\u001b[0m\u001b[1;33m\u001b[0m\u001b[0m\n",
      "\u001b[1;32m~\\Anaconda3\\lib\\site-packages\\catboost\\core.py\u001b[0m in \u001b[0;36m_fit\u001b[1;34m(self, X, y, cat_features, text_features, embedding_features, pairs, sample_weight, group_id, group_weight, subgroup_id, pairs_weight, baseline, use_best_model, eval_set, verbose, logging_level, plot, column_description, verbose_eval, metric_period, silent, early_stopping_rounds, save_snapshot, snapshot_file, snapshot_interval, init_model)\u001b[0m\n\u001b[0;32m   1803\u001b[0m                 \u001b[0mparams\u001b[0m\u001b[1;33m,\u001b[0m\u001b[1;33m\u001b[0m\u001b[1;33m\u001b[0m\u001b[0m\n\u001b[0;32m   1804\u001b[0m                 \u001b[0mallow_clear_pool\u001b[0m\u001b[1;33m,\u001b[0m\u001b[1;33m\u001b[0m\u001b[1;33m\u001b[0m\u001b[0m\n\u001b[1;32m-> 1805\u001b[1;33m                 \u001b[0mtrain_params\u001b[0m\u001b[1;33m[\u001b[0m\u001b[1;34m\"init_model\"\u001b[0m\u001b[1;33m]\u001b[0m\u001b[1;33m\u001b[0m\u001b[1;33m\u001b[0m\u001b[0m\n\u001b[0m\u001b[0;32m   1806\u001b[0m             )\n\u001b[0;32m   1807\u001b[0m \u001b[1;33m\u001b[0m\u001b[0m\n",
      "\u001b[1;32m~\\Anaconda3\\lib\\site-packages\\catboost\\core.py\u001b[0m in \u001b[0;36m_train\u001b[1;34m(self, train_pool, test_pool, params, allow_clear_pool, init_model)\u001b[0m\n\u001b[0;32m   1256\u001b[0m \u001b[1;33m\u001b[0m\u001b[0m\n\u001b[0;32m   1257\u001b[0m     \u001b[1;32mdef\u001b[0m \u001b[0m_train\u001b[0m\u001b[1;33m(\u001b[0m\u001b[0mself\u001b[0m\u001b[1;33m,\u001b[0m \u001b[0mtrain_pool\u001b[0m\u001b[1;33m,\u001b[0m \u001b[0mtest_pool\u001b[0m\u001b[1;33m,\u001b[0m \u001b[0mparams\u001b[0m\u001b[1;33m,\u001b[0m \u001b[0mallow_clear_pool\u001b[0m\u001b[1;33m,\u001b[0m \u001b[0minit_model\u001b[0m\u001b[1;33m)\u001b[0m\u001b[1;33m:\u001b[0m\u001b[1;33m\u001b[0m\u001b[1;33m\u001b[0m\u001b[0m\n\u001b[1;32m-> 1258\u001b[1;33m         \u001b[0mself\u001b[0m\u001b[1;33m.\u001b[0m\u001b[0m_object\u001b[0m\u001b[1;33m.\u001b[0m\u001b[0m_train\u001b[0m\u001b[1;33m(\u001b[0m\u001b[0mtrain_pool\u001b[0m\u001b[1;33m,\u001b[0m \u001b[0mtest_pool\u001b[0m\u001b[1;33m,\u001b[0m \u001b[0mparams\u001b[0m\u001b[1;33m,\u001b[0m \u001b[0mallow_clear_pool\u001b[0m\u001b[1;33m,\u001b[0m \u001b[0minit_model\u001b[0m\u001b[1;33m.\u001b[0m\u001b[0m_object\u001b[0m \u001b[1;32mif\u001b[0m \u001b[0minit_model\u001b[0m \u001b[1;32melse\u001b[0m \u001b[1;32mNone\u001b[0m\u001b[1;33m)\u001b[0m\u001b[1;33m\u001b[0m\u001b[1;33m\u001b[0m\u001b[0m\n\u001b[0m\u001b[0;32m   1259\u001b[0m         \u001b[0mself\u001b[0m\u001b[1;33m.\u001b[0m\u001b[0m_set_trained_model_attributes\u001b[0m\u001b[1;33m(\u001b[0m\u001b[1;33m)\u001b[0m\u001b[1;33m\u001b[0m\u001b[1;33m\u001b[0m\u001b[0m\n\u001b[0;32m   1260\u001b[0m \u001b[1;33m\u001b[0m\u001b[0m\n",
      "\u001b[1;32m_catboost.pyx\u001b[0m in \u001b[0;36m_catboost._CatBoost._train\u001b[1;34m()\u001b[0m\n",
      "\u001b[1;32m_catboost.pyx\u001b[0m in \u001b[0;36m_catboost._CatBoost._train\u001b[1;34m()\u001b[0m\n",
      "\u001b[1;31mKeyboardInterrupt\u001b[0m: "
     ]
    }
   ],
   "source": [
    "seed = 2021 # seed\n",
    "skf = KFold(n_splits=10, shuffle=True, random_state=seed) # for cross validation\n",
    "scores = []\n",
    "preds= []\n",
    "\n",
    "\n",
    "\n",
    "    \n",
    "\n",
    "#creating a for loop for the stratified k fold\n",
    "i = 1\n",
    "for train, test in skf.split(X, y):\n",
    "    x_train, x_test, y_train, y_test = X.iloc[train], X.iloc[test], y.iloc[train], y.iloc[test]# spliting the data\n",
    "    cat =  CatBoostRegressor(learning_rate=0.05,eval_metric='MAE',iterations= 5000,subsample=0.8)# parameters for the algorithm this was done by manual tuning\n",
    "\n",
    "    cat.fit( x_train, y_train,eval_set=[(x_train,y_train),(x_test, y_test)], early_stopping_rounds=100,verbose=500,)# fitting on train data\n",
    "    \n",
    "    print('Number of splits trained {} '.format(i))\n",
    "    score = mean_absolute_error(y_test, cat.predict(x_test)) # checking the accuracy\n",
    "    pred = cat.predict(test_new)# making prediction probabities\n",
    "    scores.append(score)\n",
    "    preds.append(pred)\n",
    "    i += 1\n",
    "\n",
    "np.mean(scores)"
   ]
  },
  {
   "cell_type": "code",
   "execution_count": null,
   "metadata": {},
   "outputs": [],
   "source": [
    "#from sklearn.model_selection import train_test_split"
   ]
  },
  {
   "cell_type": "markdown",
   "metadata": {},
   "source": [
    "seed = 2021\n",
    "x_train, x_test, y_train, y_test = train_test_split(X,y,test_size=0.2,random_state=seed)\n",
    "estimator = LGBMRegressor()\n",
    "estimator.fit( x_train, y_train, )# fitting on train data\n",
    "    "
   ]
  },
  {
   "cell_type": "markdown",
   "metadata": {},
   "source": [
    "mean_absolute_error(y_test,estimator.predict(x_test))"
   ]
  },
  {
   "cell_type": "code",
   "execution_count": null,
   "metadata": {},
   "outputs": [],
   "source": [
    "##learning_rate=0.1,n_estimators = 180\n",
    "                           #    ,scale_pos_weight= 3.5,max_depth=8,num_leaves=30,reg_lambda=0.3,)# parameters for the algori"
   ]
  },
  {
   "cell_type": "code",
   "execution_count": null,
   "metadata": {},
   "outputs": [],
   "source": []
  },
  {
   "cell_type": "code",
   "execution_count": null,
   "metadata": {},
   "outputs": [],
   "source": []
  },
  {
   "cell_type": "code",
   "execution_count": null,
   "metadata": {},
   "outputs": [],
   "source": []
  },
  {
   "cell_type": "code",
   "execution_count": null,
   "metadata": {},
   "outputs": [],
   "source": []
  }
 ],
 "metadata": {
  "kernelspec": {
   "display_name": "Python 3",
   "language": "python",
   "name": "python3"
  },
  "language_info": {
   "codemirror_mode": {
    "name": "ipython",
    "version": 3
   },
   "file_extension": ".py",
   "mimetype": "text/x-python",
   "name": "python",
   "nbconvert_exporter": "python",
   "pygments_lexer": "ipython3",
   "version": "3.7.4"
  }
 },
 "nbformat": 4,
 "nbformat_minor": 4
}
